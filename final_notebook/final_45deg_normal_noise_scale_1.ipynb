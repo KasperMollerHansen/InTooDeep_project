{
 "cells": [
  {
   "cell_type": "code",
   "execution_count": 1,
   "metadata": {},
   "outputs": [
    {
     "name": "stdout",
     "output_type": "stream",
     "text": [
      "1\n",
      "CUDNN is available! \n",
      "DirectML is not available, using CPU/GPU\n"
     ]
    }
   ],
   "source": [
    "import torch\n",
    "import torchvision\n",
    "from torchsummary import summary\n",
    "import warnings\n",
    "# Suppress FutureWarning specifically from torch.load\n",
    "warnings.filterwarnings(\"ignore\", category=FutureWarning)\n",
    "import numpy as np\n",
    "from torchvision import transforms\n",
    "from PIL import Image\n",
    "import matplotlib.pyplot as plt\n",
    "\n",
    "################### GPU ##########################\n",
    "\n",
    "device = torch.device(\"cuda:1\" if torch.cuda.is_available() else \"cpu\")\n",
    "if torch.cuda.is_available():\n",
    "    torch.cuda.set_device(device.index)  # Set the device explicitly\n",
    "    print(torch.cuda.current_device())  # Should print 1 if cuda:1 is active\n",
    "\n",
    "if torch.backends.cudnn.is_available()==True:\n",
    "    print('CUDNN is available! ')\n",
    "    torch.backends.cudnn.enabled = True\n",
    "    torch.backends.cudnn.benchmark = True\n",
    "\n",
    "try:\n",
    "    import torch_directml\n",
    "    device = torch_directml.device()\n",
    "    print(\"DirectML is available, using DirectML\")\n",
    "except:\n",
    "    print(\"DirectML is not available, using CPU/GPU\")\n",
    "\n",
    "##################################################\n",
    "\n",
    "import windturbine_final as wt"
   ]
  },
  {
   "cell_type": "code",
   "execution_count": 2,
   "metadata": {},
   "outputs": [],
   "source": [
    "ResNet34 = torchvision.models.resnet34(weights=None)\n",
    "ResNet34.fc = torch.nn.Linear(in_features=512,out_features=2,bias=True)\n",
    "# Set device\n",
    "device = torch.device(\"cuda\" if torch.cuda.is_available() else \"cpu\")\n",
    "model = ResNet34.to(device)\n",
    "\n",
    "#summary(model, input_size=(3, 350, 350), device=device.type)"
   ]
  },
  {
   "cell_type": "code",
   "execution_count": 3,
   "metadata": {},
   "outputs": [],
   "source": [
    "def transform(image):\n",
    "    image = np.array(image)\n",
    "    image = image[200:550,465:815]\n",
    "    \n",
    "    # Convert back to PIL Image for further transforms\n",
    "    image = Image.fromarray(image)\n",
    "    \n",
    "    # Compose transformations\n",
    "    transform = transforms.Compose([\n",
    "        transforms.ToTensor(),  # Convert to tensor\n",
    "    ])\n",
    "    return transform(image)\n",
    "\n",
    "def transform_all_noise(image):\n",
    "    # Get either 0 or 1\n",
    "    noise = np.random.randint(0, 2)\n",
    "    if noise == 0:\n",
    "        # Get 2 random numbers between -50 and 50\n",
    "        x,y = np.random.normal(0, 15, 2).astype(int)\n",
    "\n",
    "        # Convert image to array\n",
    "        image = np.array(image)\n",
    "        image = image[200+x:550+x,465+y:815+y]\n",
    "\n",
    "        # Convert back to PIL Image for further transforms\n",
    "        image = Image.fromarray(image)\n",
    "\n",
    "        # Compose transformations\n",
    "        transform = transforms.Compose([\n",
    "            transforms.ToTensor(),  # Convert to tensor\n",
    "        ])\n",
    "    else:\n",
    "        x = np.random.randint(400, 600)\n",
    "        transform = transforms.Compose([\n",
    "            transforms.CenterCrop(x),\n",
    "            transforms.Resize(350),\n",
    "            transforms.ToTensor(),\n",
    "        ])\n",
    "    return transform(image)\n",
    "\n",
    "def transform_normal_noise(image):\n",
    "    # Get 2 random numbers between -50 and 50\n",
    "    x,y = np.random.normal(0, 15, 2).astype(int)\n",
    "\n",
    "    # Convert image to array\n",
    "    image = np.array(image)\n",
    "    image = image[200+x:550+x,465+y:815+y]\n",
    "\n",
    "    # Convert back to PIL Image for further transforms\n",
    "    image = Image.fromarray(image)\n",
    "\n",
    "    # Compose transformations\n",
    "    transform = transforms.Compose([\n",
    "        transforms.ToTensor(),  # Convert to tensor\n",
    "    ])\n",
    "    return transform(image)\n"
   ]
  },
  {
   "cell_type": "markdown",
   "metadata": {},
   "source": [
    "### Parameters ResNet34"
   ]
  },
  {
   "cell_type": "code",
   "execution_count": 4,
   "metadata": {},
   "outputs": [
    {
     "name": "stdout",
     "output_type": "stream",
     "text": [
      "Dataset size: 5997\n",
      "Model loaded successfully\n"
     ]
    }
   ],
   "source": [
    "angle_type = \"both\"\n",
    "batch_size = 64\n",
    "images_num = 1\n",
    "model = ResNet34\n",
    "lr = 1e-2\n",
    "epochs = 40\n",
    "accu_th = [10,5,1,0.1]\n",
    "model_name = \"final_models/ResNet34_final_normal_noise_45deg_scale_1.pth\"\n",
    "\n",
    "wind_dataset = wt.WindTurbineDataset(csv_file='rotations_w_images_long_30_deg.csv', root_dir='data/', \n",
    "                                     images_num=images_num, transform=transform, angle_type=angle_type)\n",
    "print(f\"Dataset size: {len(wind_dataset)}\")\n",
    "\n",
    "train_dataset, test_dataset = wt.WindTurbineDataloader.train_test_split(wind_dataset, test_size=0.2)\n",
    "trainloader = wt.WindTurbineDataloader.dataloader(train_dataset, batch_size=batch_size, shuffle=True)\n",
    "testloader = wt.WindTurbineDataloader.dataloader(test_dataset, batch_size=batch_size, shuffle=True)\n",
    "\n",
    "try:\n",
    "    model.load_state_dict(torch.load(model_name, map_location=torch.device(\"cpu\")))\n",
    "    print(\"Model loaded successfully\")\n",
    "    lr = 1e-4\n",
    "    epochs = 20\n",
    "except:\n",
    "    print(\"Model not found, training from scratch\")\n",
    "model = model.to(device)\n",
    "\n",
    "# Loss function\n",
    "criterion = wt.modLoss(n_input=2)\n",
    "\n",
    "# Optimizer\n",
    "optimizer = torch.optim.Adam(model.parameters(), lr=lr)\n",
    "\n",
    "#Scheduler\n",
    "schedular = torch.optim.lr_scheduler.ReduceLROnPlateau(optimizer, mode='min', factor=np.sqrt(0.1), patience=2, threshold=0.0001)\n",
    "\n",
    "#Trainer\n",
    "trainer = wt.Trainer(model, trainloader, testloader, criterion, optimizer,device, \n",
    "                     epochs=epochs, accu_th=accu_th, angle_type=angle_type, \n",
    "                     schedular=schedular, minimal=False)\n"
   ]
  },
  {
   "cell_type": "markdown",
   "metadata": {},
   "source": [
    "### ResNet34 Model Training"
   ]
  },
  {
   "cell_type": "code",
   "execution_count": null,
   "metadata": {},
   "outputs": [],
   "source": [
    "model = trainer.train_model()\n",
    "\n",
    "# Plot the training and testing loss\n",
    "plt.figure(figsize=(25, 4))\n",
    "# Make subplot with loss and accuracy\n",
    "plt.subplot(1, 5, 1)\n",
    "plt.plot(trainer.train_loss, label=\"Train Loss\")\n",
    "plt.plot(trainer.test_loss, label=\"Test Loss\")\n",
    "plt.xlabel(\"Epochs\")\n",
    "plt.ylabel(\"Loss\")\n",
    "plt.legend()\n",
    "plt.title(\"Loss\")\n",
    "plt.grid()\n",
    "if not trainer.minimal:\n",
    "    # Make subplot with loss and accuracy\n",
    "    plt.subplot(1, 5, 2)\n",
    "    plt.title(\"Base Angle Train Accuracy\")\n",
    "    plt.plot(trainer.train_accuracy[:,0], label=r\"$\\pm 60deg$\")\n",
    "    plt.plot(trainer.train_accuracy[:,1], label=r\"$\\pm 20deg$\")\n",
    "    plt.plot(trainer.train_accuracy[:,2], label=r\"$\\pm 10deg$\")\n",
    "    plt.plot(trainer.train_accuracy[:,3], label=r\"$\\pm 5deg$\")\n",
    "    plt.xlabel(\"Epochs\")\n",
    "    plt.ylabel(\"Accuracy\")\n",
    "    plt.legend()\n",
    "    plt.grid()\n",
    "\n",
    "    plt.subplot(1, 5, 3)\n",
    "    plt.title(\"Base Angle Test Accuracy\")\n",
    "    plt.plot(trainer.test_accuracy[:,0], label=r\"$\\pm 60deg$\")\n",
    "    plt.plot(trainer.test_accuracy[:,1], label=r\"$\\pm 20deg$\")\n",
    "    plt.plot(trainer.test_accuracy[:,2], label=r\"$\\pm 10deg$\")\n",
    "    plt.plot(trainer.test_accuracy[:,3], label=r\"$\\pm 5deg$\")\n",
    "    plt.xlabel(\"Epochs\")\n",
    "    plt.ylabel(\"Accuracy\")\n",
    "    plt.legend()\n",
    "    plt.grid()\n",
    "\n",
    "    plt.subplot(1, 5, 4)\n",
    "    plt.title(\"Blade Angle Train Accuracy\")\n",
    "    plt.plot(trainer.train_accuracy[:,4], label=r\"$\\pm 60deg$\")\n",
    "    plt.plot(trainer.train_accuracy[:,5], label=r\"$\\pm 20deg$\")\n",
    "    plt.plot(trainer.train_accuracy[:,6], label=r\"$\\pm 10deg$\")\n",
    "    plt.plot(trainer.train_accuracy[:,7], label=r\"$\\pm 5deg$\")\n",
    "    plt.xlabel(\"Epochs\")\n",
    "    plt.ylabel(\"Accuracy\")\n",
    "    plt.legend()\n",
    "    plt.grid()\n",
    "\n",
    "    plt.subplot(1, 5, 5)\n",
    "    plt.title(\"Blade Angle Test Accuracy\")\n",
    "    plt.plot(trainer.test_accuracy[:,4], label=r\"$\\pm 60deg$\")\n",
    "    plt.plot(trainer.test_accuracy[:,5], label=r\"$\\pm 20deg$\")\n",
    "    plt.plot(trainer.test_accuracy[:,6], label=r\"$\\pm 10deg$\")\n",
    "    plt.plot(trainer.test_accuracy[:,7], label=r\"$\\pm 5deg$\")\n",
    "    plt.xlabel(\"Epochs\")\n",
    "    plt.ylabel(\"Accuracy\")\n",
    "    plt.legend()\n",
    "    plt.grid()\n",
    "plt.show()"
   ]
  },
  {
   "cell_type": "markdown",
   "metadata": {},
   "source": [
    "### Save Model"
   ]
  },
  {
   "cell_type": "code",
   "execution_count": null,
   "metadata": {},
   "outputs": [],
   "source": [
    "torch.save(model.to(\"cpu\").state_dict(), model_name)\n",
    "print(\"Model saved successfully\")"
   ]
  },
  {
   "cell_type": "markdown",
   "metadata": {},
   "source": [
    "### Test Model"
   ]
  },
  {
   "cell_type": "code",
   "execution_count": null,
   "metadata": {},
   "outputs": [],
   "source": [
    "# # Test the model\n",
    "results = trainer.test_model(model.to(device), wind_dataset, angle_type=angle_type)\n",
    "# Sort the results by base angle\n",
    "results_sorted = results.sort_values(by=\"Base_Angle\")\n",
    "\n",
    "# Plot the results\n",
    "if angle_type == \"both\" or angle_type == \"base_angle\":\n",
    "    plt.figure(figsize=(10, 3))\n",
    "    plt.stem(results_sorted[\"Base_Angle\"], results_sorted[\"Base_Angle_Error\"], label=\"Base Angle Error\",markerfmt='.')\n",
    "    plt.xlabel(\"Base Angle\")\n",
    "    plt.ylabel(\"Error\")\n",
    "    plt.legend()\n",
    "    plt.grid()\n",
    "    plt.show()\n",
    "if angle_type == \"both\" or angle_type == \"blade_angle\":\n",
    "    plt.figure(figsize=(10, 3))\n",
    "    plt.stem(results_sorted[\"Blade_Angle\"], results_sorted[\"Blade_Angle_Error\"], label=\"Blade Angle Error\", markerfmt='.')\n",
    "    plt.xlabel(\"Blade Angle\")\n",
    "    plt.ylabel(\"Error\")\n",
    "    plt.legend()\n",
    "    plt.grid()\n",
    "    plt.show()"
   ]
  },
  {
   "cell_type": "code",
   "execution_count": null,
   "metadata": {},
   "outputs": [],
   "source": []
  }
 ],
 "metadata": {
  "kernelspec": {
   "display_name": "Python 3 (ipykernel)",
   "language": "python",
   "name": "python3"
  },
  "language_info": {
   "codemirror_mode": {
    "name": "ipython",
    "version": 3
   },
   "file_extension": ".py",
   "mimetype": "text/x-python",
   "name": "python",
   "nbconvert_exporter": "python",
   "pygments_lexer": "ipython3",
   "version": "3.11.8"
  }
 },
 "nbformat": 4,
 "nbformat_minor": 4
}
